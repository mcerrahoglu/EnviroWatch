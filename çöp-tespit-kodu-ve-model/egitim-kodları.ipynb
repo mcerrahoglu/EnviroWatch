{
 "cells": [
  {
   "cell_type": "markdown",
   "id": "63f774a8-e90c-49ba-a042-966821799e89",
   "metadata": {},
   "source": [
    "# eğitim seti 3 ile eğitim"
   ]
  },
  {
   "cell_type": "code",
   "execution_count": 2,
   "id": "532067bc-858a-4c5a-b4fe-1d7f89163631",
   "metadata": {},
   "outputs": [
    {
     "name": "stdout",
     "output_type": "stream",
     "text": [
      "New https://pypi.org/project/ultralytics/8.3.56 available  Update with 'pip install -U ultralytics'\n",
      "Ultralytics 8.3.6  Python-3.9.20 torch-2.4.1+cu118 CUDA:0 (NVIDIA GeForce RTX 2060, 6144MiB)\n",
      "\u001b[34m\u001b[1mengine\\trainer: \u001b[0mtask=detect, mode=train, model=yolo11s.pt, data=config.yaml, epochs=20, time=None, patience=100, batch=16, imgsz=640, save=True, save_period=-1, cache=False, device=cuda, workers=8, project=None, name=yolov8_envirowatch20, exist_ok=False, pretrained=True, optimizer=auto, verbose=True, seed=0, deterministic=True, single_cls=False, rect=False, cos_lr=False, close_mosaic=10, resume=False, amp=True, fraction=1.0, profile=False, freeze=None, multi_scale=False, overlap_mask=True, mask_ratio=4, dropout=0.0, val=True, split=val, save_json=False, save_hybrid=False, conf=None, iou=0.7, max_det=300, half=False, dnn=False, plots=True, source=None, vid_stride=1, stream_buffer=False, visualize=False, augment=False, agnostic_nms=False, classes=None, retina_masks=False, embed=None, show=False, save_frames=False, save_txt=False, save_conf=False, save_crop=False, show_labels=True, show_conf=True, show_boxes=True, line_width=None, format=torchscript, keras=False, optimize=False, int8=False, dynamic=False, simplify=True, opset=None, workspace=4, nms=False, lr0=0.01, lrf=0.01, momentum=0.937, weight_decay=0.0005, warmup_epochs=3.0, warmup_momentum=0.8, warmup_bias_lr=0.1, box=7.5, cls=0.5, dfl=1.5, pose=12.0, kobj=1.0, label_smoothing=0.0, nbs=64, hsv_h=0.015, hsv_s=0.7, hsv_v=0.4, degrees=0.0, translate=0.1, scale=0.5, shear=0.0, perspective=0.0, flipud=0.0, fliplr=0.5, bgr=0.0, mosaic=1.0, mixup=0.0, copy_paste=0.0, copy_paste_mode=flip, auto_augment=randaugment, erasing=0.4, crop_fraction=1.0, cfg=None, tracker=botsort.yaml, save_dir=runs\\detect\\yolov8_envirowatch20\n",
      "Overriding model.yaml nc=80 with nc=2\n",
      "\n",
      "                   from  n    params  module                                       arguments                     \n",
      "  0                  -1  1       928  ultralytics.nn.modules.conv.Conv             [3, 32, 3, 2]                 \n",
      "  1                  -1  1     18560  ultralytics.nn.modules.conv.Conv             [32, 64, 3, 2]                \n",
      "  2                  -1  1     26080  ultralytics.nn.modules.block.C3k2            [64, 128, 1, False, 0.25]     \n",
      "  3                  -1  1    147712  ultralytics.nn.modules.conv.Conv             [128, 128, 3, 2]              \n",
      "  4                  -1  1    103360  ultralytics.nn.modules.block.C3k2            [128, 256, 1, False, 0.25]    \n",
      "  5                  -1  1    590336  ultralytics.nn.modules.conv.Conv             [256, 256, 3, 2]              \n",
      "  6                  -1  1    346112  ultralytics.nn.modules.block.C3k2            [256, 256, 1, True]           \n",
      "  7                  -1  1   1180672  ultralytics.nn.modules.conv.Conv             [256, 512, 3, 2]              \n",
      "  8                  -1  1   1380352  ultralytics.nn.modules.block.C3k2            [512, 512, 1, True]           \n",
      "  9                  -1  1    656896  ultralytics.nn.modules.block.SPPF            [512, 512, 5]                 \n",
      " 10                  -1  1    990976  ultralytics.nn.modules.block.C2PSA           [512, 512, 1]                 \n",
      " 11                  -1  1         0  torch.nn.modules.upsampling.Upsample         [None, 2, 'nearest']          \n",
      " 12             [-1, 6]  1         0  ultralytics.nn.modules.conv.Concat           [1]                           \n",
      " 13                  -1  1    443776  ultralytics.nn.modules.block.C3k2            [768, 256, 1, False]          \n",
      " 14                  -1  1         0  torch.nn.modules.upsampling.Upsample         [None, 2, 'nearest']          \n",
      " 15             [-1, 4]  1         0  ultralytics.nn.modules.conv.Concat           [1]                           \n",
      " 16                  -1  1    127680  ultralytics.nn.modules.block.C3k2            [512, 128, 1, False]          \n",
      " 17                  -1  1    147712  ultralytics.nn.modules.conv.Conv             [128, 128, 3, 2]              \n",
      " 18            [-1, 13]  1         0  ultralytics.nn.modules.conv.Concat           [1]                           \n",
      " 19                  -1  1    345472  ultralytics.nn.modules.block.C3k2            [384, 256, 1, False]          \n",
      " 20                  -1  1    590336  ultralytics.nn.modules.conv.Conv             [256, 256, 3, 2]              \n",
      " 21            [-1, 10]  1         0  ultralytics.nn.modules.conv.Concat           [1]                           \n",
      " 22                  -1  1   1511424  ultralytics.nn.modules.block.C3k2            [768, 512, 1, True]           \n",
      " 23        [16, 19, 22]  1    820182  ultralytics.nn.modules.head.Detect           [2, [128, 256, 512]]          \n",
      "YOLO11s summary: 319 layers, 9,428,566 parameters, 9,428,550 gradients, 21.6 GFLOPs\n",
      "\n",
      "Transferred 493/499 items from pretrained weights\n",
      "Freezing layer 'model.23.dfl.conv.weight'\n",
      "\u001b[34m\u001b[1mAMP: \u001b[0mrunning Automatic Mixed Precision (AMP) checks with YOLO11n...\n",
      "\u001b[34m\u001b[1mAMP: \u001b[0mchecks passed \n"
     ]
    },
    {
     "name": "stderr",
     "output_type": "stream",
     "text": [
      "\u001b[34m\u001b[1mtrain: \u001b[0mScanning C:\\Users\\Cihat\\Desktop\\Araştırma-Projesi-20-10-24\\egitim_dataseti\\3-veriseti\\train\\labels.cache... 24487 images, 4 backgrounds, 12 corrupt: 100%|██████████| 24487/24487 [00:00<?, ?it/s]"
     ]
    },
    {
     "name": "stdout",
     "output_type": "stream",
     "text": [
      "\u001b[34m\u001b[1mtrain: \u001b[0mWARNING  C:\\Users\\Cihat\\Desktop\\Aratrma-Projesi-20-10-24\\egitim_dataseti\\3-veriseti\\train\\images\\AluCan39.jpg: ignoring corrupt image/label: non-normalized or out of bounds coordinates [     1.0469]\n",
      "\u001b[34m\u001b[1mtrain: \u001b[0mWARNING  C:\\Users\\Cihat\\Desktop\\Aratrma-Projesi-20-10-24\\egitim_dataseti\\3-veriseti\\train\\images\\AluCan48.jpg: ignoring corrupt image/label: non-normalized or out of bounds coordinates [      1.002]\n",
      "\u001b[34m\u001b[1mtrain: \u001b[0mWARNING  C:\\Users\\Cihat\\Desktop\\Aratrma-Projesi-20-10-24\\egitim_dataseti\\3-veriseti\\train\\images\\AluCan55.jpg: ignoring corrupt image/label: non-normalized or out of bounds coordinates [      1.013]\n",
      "\u001b[34m\u001b[1mtrain: \u001b[0mWARNING  C:\\Users\\Cihat\\Desktop\\Aratrma-Projesi-20-10-24\\egitim_dataseti\\3-veriseti\\train\\images\\AluCan87.jpg: ignoring corrupt image/label: non-normalized or out of bounds coordinates [     1.0339]\n",
      "\u001b[34m\u001b[1mtrain: \u001b[0mWARNING  C:\\Users\\Cihat\\Desktop\\Aratrma-Projesi-20-10-24\\egitim_dataseti\\3-veriseti\\train\\images\\Glass435.jpg: ignoring corrupt image/label: non-normalized or out of bounds coordinates [     1.0078]\n",
      "\u001b[34m\u001b[1mtrain: \u001b[0mWARNING  C:\\Users\\Cihat\\Desktop\\Aratrma-Projesi-20-10-24\\egitim_dataseti\\3-veriseti\\train\\images\\Glass436.jpg: ignoring corrupt image/label: non-normalized or out of bounds coordinates [     1.0078]\n",
      "\u001b[34m\u001b[1mtrain: \u001b[0mWARNING  C:\\Users\\Cihat\\Desktop\\Aratrma-Projesi-20-10-24\\egitim_dataseti\\3-veriseti\\train\\images\\Glass471.jpg: ignoring corrupt image/label: non-normalized or out of bounds coordinates [     1.0052]\n",
      "\u001b[34m\u001b[1mtrain: \u001b[0mWARNING  C:\\Users\\Cihat\\Desktop\\Aratrma-Projesi-20-10-24\\egitim_dataseti\\3-veriseti\\train\\images\\Glass84.jpg: ignoring corrupt image/label: non-normalized or out of bounds coordinates [      1.026]\n",
      "\u001b[34m\u001b[1mtrain: \u001b[0mWARNING  C:\\Users\\Cihat\\Desktop\\Aratrma-Projesi-20-10-24\\egitim_dataseti\\3-veriseti\\train\\images\\HDPEM22.jpg: ignoring corrupt image/label: non-normalized or out of bounds coordinates [     1.0052]\n",
      "\u001b[34m\u001b[1mtrain: \u001b[0mWARNING  C:\\Users\\Cihat\\Desktop\\Aratrma-Projesi-20-10-24\\egitim_dataseti\\3-veriseti\\train\\images\\PET1,550.jpg: ignoring corrupt image/label: non-normalized or out of bounds coordinates [     1.0104]\n",
      "\u001b[34m\u001b[1mtrain: \u001b[0mWARNING  C:\\Users\\Cihat\\Desktop\\Aratrma-Projesi-20-10-24\\egitim_dataseti\\3-veriseti\\train\\images\\PET1,620.jpg: ignoring corrupt image/label: non-normalized or out of bounds coordinates [      1.002]\n",
      "\u001b[34m\u001b[1mtrain: \u001b[0mWARNING  C:\\Users\\Cihat\\Desktop\\Aratrma-Projesi-20-10-24\\egitim_dataseti\\3-veriseti\\train\\images\\PET1,767.jpg: ignoring corrupt image/label: non-normalized or out of bounds coordinates [     1.0026]\n",
      "\u001b[34m\u001b[1mtrain: \u001b[0mWARNING  C:\\Users\\Cihat\\Desktop\\Aratrma-Projesi-20-10-24\\egitim_dataseti\\3-veriseti\\train\\images\\frame_000255.png: 1 duplicate labels removed\n",
      "\u001b[34m\u001b[1mtrain: \u001b[0mWARNING  C:\\Users\\Cihat\\Desktop\\Aratrma-Projesi-20-10-24\\egitim_dataseti\\3-veriseti\\train\\images\\frame_000487.png: 1 duplicate labels removed\n",
      "\u001b[34m\u001b[1mtrain: \u001b[0mWARNING  C:\\Users\\Cihat\\Desktop\\Aratrma-Projesi-20-10-24\\egitim_dataseti\\3-veriseti\\train\\images\\frame_000503.png: 1 duplicate labels removed\n",
      "\u001b[34m\u001b[1mtrain: \u001b[0mWARNING  C:\\Users\\Cihat\\Desktop\\Aratrma-Projesi-20-10-24\\egitim_dataseti\\3-veriseti\\train\\images\\frame_000652.png: 2 duplicate labels removed\n",
      "\u001b[34m\u001b[1mtrain: \u001b[0mWARNING  C:\\Users\\Cihat\\Desktop\\Aratrma-Projesi-20-10-24\\egitim_dataseti\\3-veriseti\\train\\images\\frame_000655.png: 2 duplicate labels removed\n",
      "\u001b[34m\u001b[1mtrain: \u001b[0mWARNING  C:\\Users\\Cihat\\Desktop\\Aratrma-Projesi-20-10-24\\egitim_dataseti\\3-veriseti\\train\\images\\frame_000661.png: 1 duplicate labels removed\n",
      "\u001b[34m\u001b[1mtrain: \u001b[0mWARNING  C:\\Users\\Cihat\\Desktop\\Aratrma-Projesi-20-10-24\\egitim_dataseti\\3-veriseti\\train\\images\\frame_000679.png: 1 duplicate labels removed\n",
      "\u001b[34m\u001b[1mtrain: \u001b[0mWARNING  C:\\Users\\Cihat\\Desktop\\Aratrma-Projesi-20-10-24\\egitim_dataseti\\3-veriseti\\train\\images\\frame_000684.png: 1 duplicate labels removed\n",
      "\u001b[34m\u001b[1mtrain: \u001b[0mWARNING  C:\\Users\\Cihat\\Desktop\\Aratrma-Projesi-20-10-24\\egitim_dataseti\\3-veriseti\\train\\images\\frame_000695.png: 1 duplicate labels removed\n",
      "\u001b[34m\u001b[1mtrain: \u001b[0mWARNING  C:\\Users\\Cihat\\Desktop\\Aratrma-Projesi-20-10-24\\egitim_dataseti\\3-veriseti\\train\\images\\frame_000857.png: 1 duplicate labels removed\n",
      "\u001b[34m\u001b[1mtrain: \u001b[0mWARNING  C:\\Users\\Cihat\\Desktop\\Aratrma-Projesi-20-10-24\\egitim_dataseti\\3-veriseti\\train\\images\\frame_001041.png: 1 duplicate labels removed\n",
      "\u001b[34m\u001b[1mtrain: \u001b[0mWARNING  C:\\Users\\Cihat\\Desktop\\Aratrma-Projesi-20-10-24\\egitim_dataseti\\3-veriseti\\train\\images\\frame_001560.png: 1 duplicate labels removed\n",
      "\u001b[34m\u001b[1mtrain: \u001b[0mWARNING  C:\\Users\\Cihat\\Desktop\\Aratrma-Projesi-20-10-24\\egitim_dataseti\\3-veriseti\\train\\images\\frame_001781.png: 1 duplicate labels removed\n",
      "\u001b[34m\u001b[1mtrain: \u001b[0mWARNING  C:\\Users\\Cihat\\Desktop\\Aratrma-Projesi-20-10-24\\egitim_dataseti\\3-veriseti\\train\\images\\frame_001782.png: 1 duplicate labels removed\n",
      "\u001b[34m\u001b[1mtrain: \u001b[0mWARNING  C:\\Users\\Cihat\\Desktop\\Aratrma-Projesi-20-10-24\\egitim_dataseti\\3-veriseti\\train\\images\\frame_001852.png: 1 duplicate labels removed\n",
      "\u001b[34m\u001b[1mtrain: \u001b[0mWARNING  C:\\Users\\Cihat\\Desktop\\Aratrma-Projesi-20-10-24\\egitim_dataseti\\3-veriseti\\train\\images\\frame_001853.png: 1 duplicate labels removed\n",
      "\u001b[34m\u001b[1mtrain: \u001b[0mWARNING  C:\\Users\\Cihat\\Desktop\\Aratrma-Projesi-20-10-24\\egitim_dataseti\\3-veriseti\\train\\images\\frame_001854.png: 1 duplicate labels removed\n",
      "\u001b[34m\u001b[1mtrain: \u001b[0mWARNING  C:\\Users\\Cihat\\Desktop\\Aratrma-Projesi-20-10-24\\egitim_dataseti\\3-veriseti\\train\\images\\frame_001856.png: 1 duplicate labels removed\n",
      "\u001b[34m\u001b[1mtrain: \u001b[0mWARNING  C:\\Users\\Cihat\\Desktop\\Aratrma-Projesi-20-10-24\\egitim_dataseti\\3-veriseti\\train\\images\\frame_001857.png: 1 duplicate labels removed\n",
      "\u001b[34m\u001b[1mtrain: \u001b[0mWARNING  C:\\Users\\Cihat\\Desktop\\Aratrma-Projesi-20-10-24\\egitim_dataseti\\3-veriseti\\train\\images\\frame_001865.png: 1 duplicate labels removed\n",
      "\u001b[34m\u001b[1mtrain: \u001b[0mWARNING  C:\\Users\\Cihat\\Desktop\\Aratrma-Projesi-20-10-24\\egitim_dataseti\\3-veriseti\\train\\images\\frame_001871.png: 1 duplicate labels removed\n",
      "\u001b[34m\u001b[1mtrain: \u001b[0mWARNING  C:\\Users\\Cihat\\Desktop\\Aratrma-Projesi-20-10-24\\egitim_dataseti\\3-veriseti\\train\\images\\frame_001872.png: 1 duplicate labels removed\n",
      "\u001b[34m\u001b[1mtrain: \u001b[0mWARNING  C:\\Users\\Cihat\\Desktop\\Aratrma-Projesi-20-10-24\\egitim_dataseti\\3-veriseti\\train\\images\\frame_001874.png: 1 duplicate labels removed\n",
      "\u001b[34m\u001b[1mtrain: \u001b[0mWARNING  C:\\Users\\Cihat\\Desktop\\Aratrma-Projesi-20-10-24\\egitim_dataseti\\3-veriseti\\train\\images\\frame_001875.png: 1 duplicate labels removed\n",
      "\u001b[34m\u001b[1mtrain: \u001b[0mWARNING  C:\\Users\\Cihat\\Desktop\\Aratrma-Projesi-20-10-24\\egitim_dataseti\\3-veriseti\\train\\images\\frame_001876.png: 1 duplicate labels removed\n",
      "\u001b[34m\u001b[1mtrain: \u001b[0mWARNING  C:\\Users\\Cihat\\Desktop\\Aratrma-Projesi-20-10-24\\egitim_dataseti\\3-veriseti\\train\\images\\frame_001879.png: 1 duplicate labels removed\n",
      "\u001b[34m\u001b[1mtrain: \u001b[0mWARNING  C:\\Users\\Cihat\\Desktop\\Aratrma-Projesi-20-10-24\\egitim_dataseti\\3-veriseti\\train\\images\\frame_001880.png: 1 duplicate labels removed\n",
      "\u001b[34m\u001b[1mtrain: \u001b[0mWARNING  C:\\Users\\Cihat\\Desktop\\Aratrma-Projesi-20-10-24\\egitim_dataseti\\3-veriseti\\train\\images\\frame_001882.png: 1 duplicate labels removed\n",
      "\u001b[34m\u001b[1mtrain: \u001b[0mWARNING  C:\\Users\\Cihat\\Desktop\\Aratrma-Projesi-20-10-24\\egitim_dataseti\\3-veriseti\\train\\images\\frame_001883.png: 1 duplicate labels removed\n",
      "\u001b[34m\u001b[1mtrain: \u001b[0mWARNING  C:\\Users\\Cihat\\Desktop\\Aratrma-Projesi-20-10-24\\egitim_dataseti\\3-veriseti\\train\\images\\frame_001884.png: 2 duplicate labels removed\n",
      "\u001b[34m\u001b[1mtrain: \u001b[0mWARNING  C:\\Users\\Cihat\\Desktop\\Aratrma-Projesi-20-10-24\\egitim_dataseti\\3-veriseti\\train\\images\\frame_001885.png: 1 duplicate labels removed\n",
      "\u001b[34m\u001b[1mtrain: \u001b[0mWARNING  C:\\Users\\Cihat\\Desktop\\Aratrma-Projesi-20-10-24\\egitim_dataseti\\3-veriseti\\train\\images\\frame_001886.png: 1 duplicate labels removed\n",
      "\u001b[34m\u001b[1mtrain: \u001b[0mWARNING  C:\\Users\\Cihat\\Desktop\\Aratrma-Projesi-20-10-24\\egitim_dataseti\\3-veriseti\\train\\images\\frame_001903.png: 1 duplicate labels removed\n",
      "\u001b[34m\u001b[1mtrain: \u001b[0mWARNING  C:\\Users\\Cihat\\Desktop\\Aratrma-Projesi-20-10-24\\egitim_dataseti\\3-veriseti\\train\\images\\frame_001906.png: 1 duplicate labels removed\n",
      "\u001b[34m\u001b[1mtrain: \u001b[0mWARNING  C:\\Users\\Cihat\\Desktop\\Aratrma-Projesi-20-10-24\\egitim_dataseti\\3-veriseti\\train\\images\\frame_001910.png: 1 duplicate labels removed\n",
      "\u001b[34m\u001b[1mtrain: \u001b[0mWARNING  C:\\Users\\Cihat\\Desktop\\Aratrma-Projesi-20-10-24\\egitim_dataseti\\3-veriseti\\train\\images\\frame_001912.png: 1 duplicate labels removed\n",
      "\u001b[34m\u001b[1mtrain: \u001b[0mWARNING  C:\\Users\\Cihat\\Desktop\\Aratrma-Projesi-20-10-24\\egitim_dataseti\\3-veriseti\\train\\images\\frame_001917.png: 1 duplicate labels removed\n",
      "\u001b[34m\u001b[1mtrain: \u001b[0mWARNING  C:\\Users\\Cihat\\Desktop\\Aratrma-Projesi-20-10-24\\egitim_dataseti\\3-veriseti\\train\\images\\frame_001927.png: 1 duplicate labels removed\n",
      "\u001b[34m\u001b[1mtrain: \u001b[0mWARNING  C:\\Users\\Cihat\\Desktop\\Aratrma-Projesi-20-10-24\\egitim_dataseti\\3-veriseti\\train\\images\\frame_001929.png: 1 duplicate labels removed\n",
      "\u001b[34m\u001b[1mtrain: \u001b[0mWARNING  C:\\Users\\Cihat\\Desktop\\Aratrma-Projesi-20-10-24\\egitim_dataseti\\3-veriseti\\train\\images\\frame_001934.png: 1 duplicate labels removed\n",
      "\u001b[34m\u001b[1mtrain: \u001b[0mWARNING  C:\\Users\\Cihat\\Desktop\\Aratrma-Projesi-20-10-24\\egitim_dataseti\\3-veriseti\\train\\images\\frame_001936.png: 1 duplicate labels removed\n",
      "\u001b[34m\u001b[1mtrain: \u001b[0mWARNING  C:\\Users\\Cihat\\Desktop\\Aratrma-Projesi-20-10-24\\egitim_dataseti\\3-veriseti\\train\\images\\frame_001937.png: 1 duplicate labels removed\n",
      "\u001b[34m\u001b[1mtrain: \u001b[0mWARNING  C:\\Users\\Cihat\\Desktop\\Aratrma-Projesi-20-10-24\\egitim_dataseti\\3-veriseti\\train\\images\\frame_001938.png: 1 duplicate labels removed\n",
      "\u001b[34m\u001b[1mtrain: \u001b[0mWARNING  C:\\Users\\Cihat\\Desktop\\Aratrma-Projesi-20-10-24\\egitim_dataseti\\3-veriseti\\train\\images\\frame_001940.png: 1 duplicate labels removed\n",
      "\u001b[34m\u001b[1mtrain: \u001b[0mWARNING  C:\\Users\\Cihat\\Desktop\\Aratrma-Projesi-20-10-24\\egitim_dataseti\\3-veriseti\\train\\images\\frame_001946.png: 1 duplicate labels removed\n",
      "\u001b[34m\u001b[1mtrain: \u001b[0mWARNING  C:\\Users\\Cihat\\Desktop\\Aratrma-Projesi-20-10-24\\egitim_dataseti\\3-veriseti\\train\\images\\frame_002029.png: 1 duplicate labels removed\n",
      "\u001b[34m\u001b[1mtrain: \u001b[0mWARNING  C:\\Users\\Cihat\\Desktop\\Aratrma-Projesi-20-10-24\\egitim_dataseti\\3-veriseti\\train\\images\\frame_002298.png: 1 duplicate labels removed\n",
      "\u001b[34m\u001b[1mtrain: \u001b[0mWARNING  C:\\Users\\Cihat\\Desktop\\Aratrma-Projesi-20-10-24\\egitim_dataseti\\3-veriseti\\train\\images\\frame_003534.png: 1 duplicate labels removed\n",
      "\u001b[34m\u001b[1mtrain: \u001b[0mWARNING  C:\\Users\\Cihat\\Desktop\\Aratrma-Projesi-20-10-24\\egitim_dataseti\\3-veriseti\\train\\images\\frame_003596.png: 1 duplicate labels removed\n",
      "\u001b[34m\u001b[1mtrain: \u001b[0mWARNING  C:\\Users\\Cihat\\Desktop\\Aratrma-Projesi-20-10-24\\egitim_dataseti\\3-veriseti\\train\\images\\frame_003597.png: 1 duplicate labels removed\n",
      "\u001b[34m\u001b[1mtrain: \u001b[0mWARNING  C:\\Users\\Cihat\\Desktop\\Aratrma-Projesi-20-10-24\\egitim_dataseti\\3-veriseti\\train\\images\\frame_003678.png: 1 duplicate labels removed\n",
      "WARNING  Box and segment counts should be equal, but got len(segments) = 1, len(boxes) = 71731. To resolve this only boxes will be used and all segments will be removed. To avoid this please supply either a detect or segment dataset, not a detect-segment mixed dataset.\n"
     ]
    },
    {
     "name": "stderr",
     "output_type": "stream",
     "text": [
      "\n"
     ]
    },
    {
     "name": "stdout",
     "output_type": "stream",
     "text": [
      "\u001b[34m\u001b[1malbumentations: \u001b[0mBlur(p=0.01, blur_limit=(3, 7)), MedianBlur(p=0.01, blur_limit=(3, 7)), ToGray(p=0.01), CLAHE(p=0.01, clip_limit=(1, 4.0), tile_grid_size=(8, 8))\n"
     ]
    },
    {
     "name": "stderr",
     "output_type": "stream",
     "text": [
      "\u001b[34m\u001b[1mval: \u001b[0mScanning C:\\Users\\Cihat\\Desktop\\Araştırma-Projesi-20-10-24\\egitim_dataseti\\3-veriseti\\val\\labels.cache... 5662 images, 1 backgrounds, 1 corrupt: 100%|██████████| 5662/5662 [00:00<?, ?it/s]"
     ]
    },
    {
     "name": "stdout",
     "output_type": "stream",
     "text": [
      "\u001b[34m\u001b[1mval: \u001b[0mWARNING  C:\\Users\\Cihat\\Desktop\\Aratrma-Projesi-20-10-24\\egitim_dataseti\\3-veriseti\\val\\images\\Glass385.jpg: ignoring corrupt image/label: non-normalized or out of bounds coordinates [     1.0052]\n",
      "\u001b[34m\u001b[1mval: \u001b[0mWARNING  C:\\Users\\Cihat\\Desktop\\Aratrma-Projesi-20-10-24\\egitim_dataseti\\3-veriseti\\val\\images\\frame_000665.png: 1 duplicate labels removed\n",
      "\u001b[34m\u001b[1mval: \u001b[0mWARNING  C:\\Users\\Cihat\\Desktop\\Aratrma-Projesi-20-10-24\\egitim_dataseti\\3-veriseti\\val\\images\\frame_000685.png: 1 duplicate labels removed\n",
      "\u001b[34m\u001b[1mval: \u001b[0mWARNING  C:\\Users\\Cihat\\Desktop\\Aratrma-Projesi-20-10-24\\egitim_dataseti\\3-veriseti\\val\\images\\frame_001849.png: 1 duplicate labels removed\n",
      "\u001b[34m\u001b[1mval: \u001b[0mWARNING  C:\\Users\\Cihat\\Desktop\\Aratrma-Projesi-20-10-24\\egitim_dataseti\\3-veriseti\\val\\images\\frame_001855.png: 1 duplicate labels removed\n",
      "\u001b[34m\u001b[1mval: \u001b[0mWARNING  C:\\Users\\Cihat\\Desktop\\Aratrma-Projesi-20-10-24\\egitim_dataseti\\3-veriseti\\val\\images\\frame_001935.png: 1 duplicate labels removed\n"
     ]
    },
    {
     "name": "stderr",
     "output_type": "stream",
     "text": [
      "\n"
     ]
    },
    {
     "name": "stdout",
     "output_type": "stream",
     "text": [
      "Plotting labels to runs\\detect\\yolov8_envirowatch20\\labels.jpg... \n",
      "\u001b[34m\u001b[1moptimizer:\u001b[0m 'optimizer=auto' found, ignoring 'lr0=0.01' and 'momentum=0.937' and determining best 'optimizer', 'lr0' and 'momentum' automatically... \n",
      "\u001b[34m\u001b[1moptimizer:\u001b[0m AdamW(lr=0.001667, momentum=0.9) with parameter groups 81 weight(decay=0.0), 88 weight(decay=0.0005), 87 bias(decay=0.0)\n",
      "Image sizes 640 train, 640 val\n",
      "Using 8 dataloader workers\n",
      "Logging results to \u001b[1mruns\\detect\\yolov8_envirowatch20\u001b[0m\n",
      "Starting training for 20 epochs...\n",
      "\n",
      "      Epoch    GPU_mem   box_loss   cls_loss   dfl_loss  Instances       Size\n"
     ]
    },
    {
     "name": "stderr",
     "output_type": "stream",
     "text": [
      "       1/20      4.47G      1.332      1.113      1.213         34        640: 100%|██████████| 1530/1530 [06:26<00:00,  3.96it/s]\n",
      "                 Class     Images  Instances      Box(P          R      mAP50  mAP50-95): 100%|██████████| 177/177 [00:48<00:00,  3.63it/s]\n"
     ]
    },
    {
     "name": "stdout",
     "output_type": "stream",
     "text": [
      "                   all       5661      17164      0.813      0.689      0.748      0.436\n",
      "\n",
      "      Epoch    GPU_mem   box_loss   cls_loss   dfl_loss  Instances       Size\n"
     ]
    },
    {
     "name": "stderr",
     "output_type": "stream",
     "text": [
      "       2/20      4.37G      1.333     0.9232      1.214         57        640: 100%|██████████| 1530/1530 [06:14<00:00,  4.09it/s]\n",
      "                 Class     Images  Instances      Box(P          R      mAP50  mAP50-95): 100%|██████████| 177/177 [00:48<00:00,  3.62it/s]\n"
     ]
    },
    {
     "name": "stdout",
     "output_type": "stream",
     "text": [
      "                   all       5661      17164      0.866      0.729      0.808      0.488\n",
      "\n",
      "      Epoch    GPU_mem   box_loss   cls_loss   dfl_loss  Instances       Size\n"
     ]
    },
    {
     "name": "stderr",
     "output_type": "stream",
     "text": [
      "       3/20      4.51G      1.282     0.8576      1.186         47        640: 100%|██████████| 1530/1530 [06:10<00:00,  4.13it/s]\n",
      "                 Class     Images  Instances      Box(P          R      mAP50  mAP50-95): 100%|██████████| 177/177 [00:48<00:00,  3.64it/s]\n"
     ]
    },
    {
     "name": "stdout",
     "output_type": "stream",
     "text": [
      "                   all       5661      17164      0.854      0.741      0.816      0.503\n",
      "\n",
      "      Epoch    GPU_mem   box_loss   cls_loss   dfl_loss  Instances       Size\n"
     ]
    },
    {
     "name": "stderr",
     "output_type": "stream",
     "text": [
      "       4/20      4.41G      1.217     0.7943      1.156         63        640: 100%|██████████| 1530/1530 [06:08<00:00,  4.15it/s]\n",
      "                 Class     Images  Instances      Box(P          R      mAP50  mAP50-95): 100%|██████████| 177/177 [00:48<00:00,  3.62it/s]"
     ]
    },
    {
     "name": "stdout",
     "output_type": "stream",
     "text": [
      "                   all       5661      17164      0.897      0.771      0.851       0.55\n"
     ]
    },
    {
     "name": "stderr",
     "output_type": "stream",
     "text": [
      "\n"
     ]
    },
    {
     "name": "stdout",
     "output_type": "stream",
     "text": [
      "\n",
      "      Epoch    GPU_mem   box_loss   cls_loss   dfl_loss  Instances       Size\n"
     ]
    },
    {
     "name": "stderr",
     "output_type": "stream",
     "text": [
      "       5/20      4.38G      1.177     0.7386      1.131         75        640: 100%|██████████| 1530/1530 [06:09<00:00,  4.14it/s]\n",
      "                 Class     Images  Instances      Box(P          R      mAP50  mAP50-95): 100%|██████████| 177/177 [00:48<00:00,  3.63it/s]"
     ]
    },
    {
     "name": "stdout",
     "output_type": "stream",
     "text": [
      "                   all       5661      17164      0.902      0.776      0.867      0.573\n"
     ]
    },
    {
     "name": "stderr",
     "output_type": "stream",
     "text": [
      "\n"
     ]
    },
    {
     "name": "stdout",
     "output_type": "stream",
     "text": [
      "\n",
      "      Epoch    GPU_mem   box_loss   cls_loss   dfl_loss  Instances       Size\n"
     ]
    },
    {
     "name": "stderr",
     "output_type": "stream",
     "text": [
      "       6/20      4.51G      1.132     0.6995      1.111         95        640: 100%|██████████| 1530/1530 [06:08<00:00,  4.15it/s]\n",
      "                 Class     Images  Instances      Box(P          R      mAP50  mAP50-95): 100%|██████████| 177/177 [00:48<00:00,  3.67it/s]"
     ]
    },
    {
     "name": "stdout",
     "output_type": "stream",
     "text": [
      "                   all       5661      17164      0.912      0.794      0.873      0.579\n"
     ]
    },
    {
     "name": "stderr",
     "output_type": "stream",
     "text": [
      "\n"
     ]
    },
    {
     "name": "stdout",
     "output_type": "stream",
     "text": [
      "\n",
      "      Epoch    GPU_mem   box_loss   cls_loss   dfl_loss  Instances       Size\n"
     ]
    },
    {
     "name": "stderr",
     "output_type": "stream",
     "text": [
      "       7/20      4.58G      1.105     0.6719      1.099         49        640: 100%|██████████| 1530/1530 [06:08<00:00,  4.16it/s]\n",
      "                 Class     Images  Instances      Box(P          R      mAP50  mAP50-95): 100%|██████████| 177/177 [00:48<00:00,  3.64it/s]\n"
     ]
    },
    {
     "name": "stdout",
     "output_type": "stream",
     "text": [
      "                   all       5661      17164      0.908      0.798      0.881      0.596\n",
      "\n",
      "      Epoch    GPU_mem   box_loss   cls_loss   dfl_loss  Instances       Size\n"
     ]
    },
    {
     "name": "stderr",
     "output_type": "stream",
     "text": [
      "       8/20      4.58G      1.084     0.6497      1.089         47        640: 100%|██████████| 1530/1530 [06:08<00:00,  4.15it/s]\n",
      "                 Class     Images  Instances      Box(P          R      mAP50  mAP50-95): 100%|██████████| 177/177 [00:48<00:00,  3.65it/s]"
     ]
    },
    {
     "name": "stdout",
     "output_type": "stream",
     "text": [
      "                   all       5661      17164      0.912      0.808      0.888      0.608\n"
     ]
    },
    {
     "name": "stderr",
     "output_type": "stream",
     "text": [
      "\n"
     ]
    },
    {
     "name": "stdout",
     "output_type": "stream",
     "text": [
      "\n",
      "      Epoch    GPU_mem   box_loss   cls_loss   dfl_loss  Instances       Size\n"
     ]
    },
    {
     "name": "stderr",
     "output_type": "stream",
     "text": [
      "       9/20      4.52G      1.059     0.6253      1.077         39        640: 100%|██████████| 1530/1530 [06:08<00:00,  4.15it/s]\n",
      "                 Class     Images  Instances      Box(P          R      mAP50  mAP50-95): 100%|██████████| 177/177 [00:48<00:00,  3.64it/s]\n"
     ]
    },
    {
     "name": "stdout",
     "output_type": "stream",
     "text": [
      "                   all       5661      17164      0.909      0.813      0.895       0.62\n",
      "\n",
      "      Epoch    GPU_mem   box_loss   cls_loss   dfl_loss  Instances       Size\n"
     ]
    },
    {
     "name": "stderr",
     "output_type": "stream",
     "text": [
      "      10/20      4.38G      1.042     0.6107       1.07         92        640: 100%|██████████| 1530/1530 [06:08<00:00,  4.15it/s]\n",
      "                 Class     Images  Instances      Box(P          R      mAP50  mAP50-95): 100%|██████████| 177/177 [00:48<00:00,  3.66it/s]"
     ]
    },
    {
     "name": "stdout",
     "output_type": "stream",
     "text": [
      "                   all       5661      17164      0.925      0.821      0.903      0.632\n"
     ]
    },
    {
     "name": "stderr",
     "output_type": "stream",
     "text": [
      "\n"
     ]
    },
    {
     "name": "stdout",
     "output_type": "stream",
     "text": [
      "Closing dataloader mosaic\n",
      "\u001b[34m\u001b[1malbumentations: \u001b[0mBlur(p=0.01, blur_limit=(3, 7)), MedianBlur(p=0.01, blur_limit=(3, 7)), ToGray(p=0.01), CLAHE(p=0.01, clip_limit=(1, 4.0), tile_grid_size=(8, 8))\n",
      "\n",
      "      Epoch    GPU_mem   box_loss   cls_loss   dfl_loss  Instances       Size\n"
     ]
    },
    {
     "name": "stderr",
     "output_type": "stream",
     "text": [
      "      11/20      4.46G      1.015     0.5632      1.051         27        640: 100%|██████████| 1530/1530 [06:07<00:00,  4.17it/s]\n",
      "                 Class     Images  Instances      Box(P          R      mAP50  mAP50-95): 100%|██████████| 177/177 [00:48<00:00,  3.64it/s]\n"
     ]
    },
    {
     "name": "stdout",
     "output_type": "stream",
     "text": [
      "                   all       5661      17164      0.919      0.822        0.9      0.634\n",
      "\n",
      "      Epoch    GPU_mem   box_loss   cls_loss   dfl_loss  Instances       Size\n"
     ]
    },
    {
     "name": "stderr",
     "output_type": "stream",
     "text": [
      "      12/20      4.34G     0.9911     0.5415      1.039         22        640: 100%|██████████| 1530/1530 [06:06<00:00,  4.17it/s]\n",
      "                 Class     Images  Instances      Box(P          R      mAP50  mAP50-95): 100%|██████████| 177/177 [00:48<00:00,  3.67it/s]"
     ]
    },
    {
     "name": "stdout",
     "output_type": "stream",
     "text": [
      "                   all       5661      17164      0.926      0.826      0.904      0.644\n"
     ]
    },
    {
     "name": "stderr",
     "output_type": "stream",
     "text": [
      "\n"
     ]
    },
    {
     "name": "stdout",
     "output_type": "stream",
     "text": [
      "\n",
      "      Epoch    GPU_mem   box_loss   cls_loss   dfl_loss  Instances       Size\n"
     ]
    },
    {
     "name": "stderr",
     "output_type": "stream",
     "text": [
      "      13/20      4.36G     0.9697     0.5261      1.031         36        640: 100%|██████████| 1530/1530 [06:06<00:00,  4.18it/s]\n",
      "                 Class     Images  Instances      Box(P          R      mAP50  mAP50-95): 100%|██████████| 177/177 [00:48<00:00,  3.66it/s]\n"
     ]
    },
    {
     "name": "stdout",
     "output_type": "stream",
     "text": [
      "                   all       5661      17164      0.924      0.831      0.907      0.651\n",
      "\n",
      "      Epoch    GPU_mem   box_loss   cls_loss   dfl_loss  Instances       Size\n"
     ]
    },
    {
     "name": "stderr",
     "output_type": "stream",
     "text": [
      "      14/20      4.37G     0.9484     0.5072      1.019         27        640: 100%|██████████| 1530/1530 [06:06<00:00,  4.17it/s]\n",
      "                 Class     Images  Instances      Box(P          R      mAP50  mAP50-95): 100%|██████████| 177/177 [00:48<00:00,  3.66it/s]\n"
     ]
    },
    {
     "name": "stdout",
     "output_type": "stream",
     "text": [
      "                   all       5661      17164      0.927       0.84      0.912      0.661\n",
      "\n",
      "      Epoch    GPU_mem   box_loss   cls_loss   dfl_loss  Instances       Size\n"
     ]
    },
    {
     "name": "stderr",
     "output_type": "stream",
     "text": [
      "      15/20      4.37G     0.9256     0.4904      1.009         19        640: 100%|██████████| 1530/1530 [06:06<00:00,  4.17it/s]\n",
      "                 Class     Images  Instances      Box(P          R      mAP50  mAP50-95): 100%|██████████| 177/177 [00:48<00:00,  3.68it/s]\n"
     ]
    },
    {
     "name": "stdout",
     "output_type": "stream",
     "text": [
      "                   all       5661      17164      0.931      0.843      0.917      0.669\n",
      "\n",
      "      Epoch    GPU_mem   box_loss   cls_loss   dfl_loss  Instances       Size\n"
     ]
    },
    {
     "name": "stderr",
     "output_type": "stream",
     "text": [
      "      16/20      4.38G     0.9059     0.4734     0.9996         40        640: 100%|██████████| 1530/1530 [06:03<00:00,  4.20it/s]\n",
      "                 Class     Images  Instances      Box(P          R      mAP50  mAP50-95): 100%|██████████| 177/177 [00:47<00:00,  3.69it/s]"
     ]
    },
    {
     "name": "stdout",
     "output_type": "stream",
     "text": [
      "                   all       5661      17164      0.938      0.843      0.919      0.675\n"
     ]
    },
    {
     "name": "stderr",
     "output_type": "stream",
     "text": [
      "\n"
     ]
    },
    {
     "name": "stdout",
     "output_type": "stream",
     "text": [
      "\n",
      "      Epoch    GPU_mem   box_loss   cls_loss   dfl_loss  Instances       Size\n"
     ]
    },
    {
     "name": "stderr",
     "output_type": "stream",
     "text": [
      "      17/20      4.37G     0.8863     0.4602      0.993         20        640: 100%|██████████| 1530/1530 [06:03<00:00,  4.20it/s]\n",
      "                 Class     Images  Instances      Box(P          R      mAP50  mAP50-95): 100%|██████████| 177/177 [00:48<00:00,  3.66it/s]"
     ]
    },
    {
     "name": "stdout",
     "output_type": "stream",
     "text": [
      "                   all       5661      17164      0.935      0.847      0.922       0.68\n"
     ]
    },
    {
     "name": "stderr",
     "output_type": "stream",
     "text": [
      "\n"
     ]
    },
    {
     "name": "stdout",
     "output_type": "stream",
     "text": [
      "\n",
      "      Epoch    GPU_mem   box_loss   cls_loss   dfl_loss  Instances       Size\n"
     ]
    },
    {
     "name": "stderr",
     "output_type": "stream",
     "text": [
      "      18/20      4.42G     0.8688     0.4455     0.9837         28        640: 100%|██████████| 1530/1530 [06:03<00:00,  4.20it/s]\n",
      "                 Class     Images  Instances      Box(P          R      mAP50  mAP50-95): 100%|██████████| 177/177 [00:48<00:00,  3.69it/s]"
     ]
    },
    {
     "name": "stdout",
     "output_type": "stream",
     "text": [
      "                   all       5661      17164      0.937      0.851      0.923      0.683\n"
     ]
    },
    {
     "name": "stderr",
     "output_type": "stream",
     "text": [
      "\n"
     ]
    },
    {
     "name": "stdout",
     "output_type": "stream",
     "text": [
      "\n",
      "      Epoch    GPU_mem   box_loss   cls_loss   dfl_loss  Instances       Size\n"
     ]
    },
    {
     "name": "stderr",
     "output_type": "stream",
     "text": [
      "      19/20      4.41G     0.8537      0.431     0.9751         33        640: 100%|██████████| 1530/1530 [06:03<00:00,  4.20it/s]\n",
      "                 Class     Images  Instances      Box(P          R      mAP50  mAP50-95): 100%|██████████| 177/177 [00:48<00:00,  3.68it/s]"
     ]
    },
    {
     "name": "stdout",
     "output_type": "stream",
     "text": [
      "                   all       5661      17164      0.932      0.857      0.925      0.688\n"
     ]
    },
    {
     "name": "stderr",
     "output_type": "stream",
     "text": [
      "\n"
     ]
    },
    {
     "name": "stdout",
     "output_type": "stream",
     "text": [
      "\n",
      "      Epoch    GPU_mem   box_loss   cls_loss   dfl_loss  Instances       Size\n"
     ]
    },
    {
     "name": "stderr",
     "output_type": "stream",
     "text": [
      "      20/20      4.41G     0.8346     0.4194     0.9672         24        640: 100%|██████████| 1530/1530 [06:03<00:00,  4.20it/s]\n",
      "                 Class     Images  Instances      Box(P          R      mAP50  mAP50-95): 100%|██████████| 177/177 [00:48<00:00,  3.68it/s]\n"
     ]
    },
    {
     "name": "stdout",
     "output_type": "stream",
     "text": [
      "                   all       5661      17164       0.93      0.858      0.925      0.691\n",
      "\n",
      "20 epochs completed in 2.334 hours.\n",
      "Optimizer stripped from runs\\detect\\yolov8_envirowatch20\\weights\\last.pt, 19.2MB\n",
      "Optimizer stripped from runs\\detect\\yolov8_envirowatch20\\weights\\best.pt, 19.2MB\n",
      "\n",
      "Validating runs\\detect\\yolov8_envirowatch20\\weights\\best.pt...\n",
      "Ultralytics 8.3.6  Python-3.9.20 torch-2.4.1+cu118 CUDA:0 (NVIDIA GeForce RTX 2060, 6144MiB)\n",
      "YOLO11s summary (fused): 238 layers, 9,413,574 parameters, 0 gradients, 21.3 GFLOPs\n"
     ]
    },
    {
     "name": "stderr",
     "output_type": "stream",
     "text": [
      "                 Class     Images  Instances      Box(P          R      mAP50  mAP50-95): 100%|██████████| 177/177 [00:50<00:00,  3.51it/s]\n"
     ]
    },
    {
     "name": "stdout",
     "output_type": "stream",
     "text": [
      "                   all       5661      17164       0.93      0.858      0.925      0.691\n",
      "                   car       1242      10228      0.956      0.895       0.95      0.672\n",
      "                 trash       4661       6936      0.904      0.822        0.9       0.71\n",
      "Speed: 0.2ms preprocess, 3.8ms inference, 0.0ms loss, 0.8ms postprocess per image\n",
      "Results saved to \u001b[1mruns\\detect\\yolov8_envirowatch20\u001b[0m\n",
      "Model eğitim işlemi başlatıldı.\n"
     ]
    }
   ],
   "source": [
    "from ultralytics import YOLO\n",
    "\n",
    "# YOLOv8 modelini başlat\n",
    "model = YOLO(\"yolo11s.pt\")\n",
    "\n",
    "# Modeli eğit\n",
    "model.train(\n",
    "    data='config.yaml',  # güncellenmiş data.yaml dosyasının yolu\n",
    "    epochs=20,         # Eğitim için epoch sayısı\n",
    "    imgsz=640,        # Görüntü boyutu\n",
    "    batch=16,          # Batch size\n",
    "    name='yolov8_envirowatch',  # Eğitim çıktılarını kaydetmek için proje ismi\n",
    "    device='cuda'\n",
    ")\n",
    "\n",
    "print(\"Model eğitim işlemi başlatıldı.\")"
   ]
  }
 ],
 "metadata": {
  "kernelspec": {
   "display_name": "Python [conda env:yolo_env] *",
   "language": "python",
   "name": "conda-env-yolo_env-py"
  },
  "language_info": {
   "codemirror_mode": {
    "name": "ipython",
    "version": 3
   },
   "file_extension": ".py",
   "mimetype": "text/x-python",
   "name": "python",
   "nbconvert_exporter": "python",
   "pygments_lexer": "ipython3",
   "version": "3.9.20"
  }
 },
 "nbformat": 4,
 "nbformat_minor": 5
}
